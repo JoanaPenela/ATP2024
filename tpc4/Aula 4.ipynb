{
 "cells": [
  {
   "cell_type": "markdown",
   "id": "1e545158",
   "metadata": {},
   "source": [
    "# Aula Prática 4 (guião)\n",
    "### Semana de 30 de Setembro a 4 de Outubro de 2024\n",
    "### José Carlos Ramalho e Luís Cunha\n",
    "### Sinopsis:\n",
    "Algoritmos sobre listas."
   ]
  },
  {
   "cell_type": "markdown",
   "id": "e38d18c4-d7d7-4fea-9bc6-e3f3c903386b",
   "metadata": {},
   "source": [
    "### Exercício 1: Criar uma lista \n",
    "- Defina uma função que recebe um argumento **N** e devolve uma  lista com os números ímpares até **N**;\n",
    "- Crie um programa que chama a função e imprime a lista resultante."
   ]
  },
  {
   "cell_type": "code",
   "execution_count": 3,
   "id": "af973146-3bb4-4fa8-ba6c-b887b79ccff8",
   "metadata": {},
   "outputs": [
    {
     "data": {
      "text/plain": [
       "[1, 3, 5, 7, 9, 11]"
      ]
     },
     "execution_count": 3,
     "metadata": {},
     "output_type": "execute_result"
    }
   ],
   "source": [
    "# Solução do exercício 1\n",
    "def criaLista(N):\n",
    "    lista = []\n",
    "    for n in range(0, N + 1):\n",
    "        if n % 2 == 1:\n",
    "            lista.append(n)\n",
    "    return lista\n",
    "\n",
    "criaLista(11)"
   ]
  },
  {
   "cell_type": "code",
   "execution_count": 1,
   "id": "2a8728b7",
   "metadata": {},
   "outputs": [
    {
     "data": {
      "text/plain": [
       "[1, 3, 5, 7, 9, 11]"
      ]
     },
     "execution_count": 1,
     "metadata": {},
     "output_type": "execute_result"
    }
   ],
   "source": [
    "def crialista(n):\n",
    "    lista=[]\n",
    "    for x in range(0,n+1):\n",
    "        if x%2==1:\n",
    "            lista.append(x)\n",
    "    return lista\n",
    "\n",
    "crialista(11)\n"
   ]
  },
  {
   "cell_type": "markdown",
   "id": "bdcbffb0",
   "metadata": {},
   "source": [
    "### Exercício 2: Ler uma lista de N números\n",
    "- Defina uma função que recebe um argumento **N** e lê **N** números armazenando-os numa lista que é devolvida como resultado;\n",
    "- Crie um programa que chama a função e imprime a lista resultante."
   ]
  },
  {
   "cell_type": "code",
   "execution_count": 6,
   "id": "af973146-3bb4-4fa8-ba6c-b887b79ccff8",
   "metadata": {},
   "outputs": [
    {
     "data": {
      "text/plain": [
       "[1, 2, 3, 4, 5]"
      ]
     },
     "execution_count": 6,
     "metadata": {},
     "output_type": "execute_result"
    }
   ],
   "source": [
    "# Solução do exercício 2\n",
    "def leLista(N):\n",
    "    lista = []\n",
    "    for n in range(1, N + 1):\n",
    "        lista.append(n)\n",
    "    return lista\n",
    "\n",
    "leLista(5)"
   ]
  },
  {
   "cell_type": "code",
   "execution_count": 2,
   "id": "2a70661b",
   "metadata": {},
   "outputs": [],
   "source": [
    "def lelista(m):\n",
    "    lista=[]\n",
    "    for x"
   ]
  },
  {
   "cell_type": "markdown",
   "id": "bdcbffb0",
   "metadata": {},
   "source": [
    "### Exercício 3: Somar uma lista de números\n",
    "- Defina uma função que recebe uma lista como argumento e devolve a soma dos números nessa lista."
   ]
  },
  {
   "cell_type": "code",
   "execution_count": 7,
   "id": "64ad6f7b",
   "metadata": {},
   "outputs": [
    {
     "data": {
      "text/plain": [
       "15"
      ]
     },
     "execution_count": 7,
     "metadata": {},
     "output_type": "execute_result"
    }
   ],
   "source": [
    "# Solução do exercício 3\n",
    "def somaLista(lista):\n",
    "    soma = 0\n",
    "    for n in lista:\n",
    "        soma = soma + n\n",
    "    return soma\n",
    "\n",
    "somaLista([1,2,3,4,5])"
   ]
  },
  {
   "cell_type": "code",
   "execution_count": null,
   "id": "7eb485d0",
   "metadata": {},
   "outputs": [],
   "source": []
  },
  {
   "cell_type": "markdown",
   "id": "65565661",
   "metadata": {},
   "source": [
    "### Exercício 4: Quadrado dos elementos de uma lista\n",
    "\n",
    "- Defina uma função que recebe uma lista como argumento e devolve uma nova lista com os quadrados de cada número da lista inicial. \n",
    "\n",
    "#### Input (exemplo)\n",
    "in: [1, 2, 3, 4]\n",
    "#### Output (exemplo)\n",
    "out: [1, 4, 9, 16]"
   ]
  },
  {
   "cell_type": "code",
   "execution_count": 10,
   "id": "7e3e2775",
   "metadata": {},
   "outputs": [
    {
     "data": {
      "text/plain": [
       "[1, 4, 9, 16]"
      ]
     },
     "execution_count": 10,
     "metadata": {},
     "output_type": "execute_result"
    }
   ],
   "source": [
    "# Solução do exercício 4\n",
    "def quadrados(lista):\n",
    "    listax = []\n",
    "    for n in lista:\n",
    "        x = n**2\n",
    "        listax.append(x)\n",
    "    return listax\n",
    "quadrados([1,2,3,4])"
   ]
  },
  {
   "cell_type": "markdown",
   "id": "bdcbffb0",
   "metadata": {},
   "source": [
    "### Exercício 5: Calcular a média duma lista de números\n",
    "- Defina uma função que recebe uma lista como argumento e devolve a média dos números nessa lista."
   ]
  },
  {
   "cell_type": "code",
   "execution_count": 12,
   "id": "a6c32b2e",
   "metadata": {},
   "outputs": [
    {
     "data": {
      "text/plain": [
       "4.0"
      ]
     },
     "execution_count": 12,
     "metadata": {},
     "output_type": "execute_result"
    }
   ],
   "source": [
    "# Solução do exercício 5\n",
    "def mediaLista(lista):\n",
    "    soma = 0\n",
    "    for n in lista:\n",
    "        soma = soma + n\n",
    "    media = soma/(len(lista))\n",
    "    return media\n",
    "mediaLista([4,4])"
   ]
  },
  {
   "cell_type": "markdown",
   "id": "f41ef69b",
   "metadata": {},
   "source": [
    "### Exercício 6: Maior de uma sequência\n",
    "- Defina uma função que recebe uma lista como argumento e devolve o maior número nessa lista."
   ]
  },
  {
   "cell_type": "code",
   "execution_count": 13,
   "id": "86f5b24d",
   "metadata": {},
   "outputs": [
    {
     "data": {
      "text/plain": [
       "6"
      ]
     },
     "execution_count": 13,
     "metadata": {},
     "output_type": "execute_result"
    }
   ],
   "source": [
    "# Solução do exercício 6\n",
    "def maiorLista(lista):\n",
    "    maior = 0\n",
    "    for n in lista:\n",
    "        if n > maior:\n",
    "            maior = n\n",
    "    return maior\n",
    "\n",
    "maiorLista([4,3,6,1])"
   ]
  },
  {
   "cell_type": "markdown",
   "id": "d11cdd11",
   "metadata": {},
   "source": [
    "### Exercício 6: Menor de uma sequência\n",
    "- Defina uma função que recebe uma lista como argumento e devolve o menor número nessa lista."
   ]
  },
  {
   "cell_type": "code",
   "execution_count": null,
   "id": "7549c7d7",
   "metadata": {},
   "outputs": [],
   "source": [
    "# Solução do exercício 6\n",
    "def menorLista(lista):\n",
    "    menor = lista[len(lista)-1]\n",
    "    for n in lista:\n",
    "        if n < menor:\n",
    "            menor = n\n",
    "    return menor"
   ]
  },
  {
   "cell_type": "markdown",
   "id": "bb597e57",
   "metadata": {},
   "source": [
    "### Exercício 7: Contar Ocorrências\n",
    "- Defina uma função que recebe uma lista e um elemento como argumento, e que devolve o número de ocurrências desse elemento na lista."
   ]
  },
  {
   "cell_type": "code",
   "execution_count": 14,
   "id": "e426e923",
   "metadata": {},
   "outputs": [
    {
     "data": {
      "text/plain": [
       "3"
      ]
     },
     "execution_count": 14,
     "metadata": {},
     "output_type": "execute_result"
    }
   ],
   "source": [
    "# Solução do exercício 7\n",
    "def occor(lista, elem):\n",
    "    occor = 0\n",
    "    for n in lista:\n",
    "        if n == elem:\n",
    "            occor = occor + 1\n",
    "    return occor\n",
    "\n",
    "occor([1,2,3,2,4,2],2)"
   ]
  },
  {
   "cell_type": "markdown",
   "id": "775a02a5",
   "metadata": {},
   "source": [
    "### Exercício 8: Contar strings\n",
    "- Defina uma função que recebe uma lista de strings como argumento e devolve número de strings nessa lista que:\n",
    "    1. Têm tamanho maior ou igual a 3;\n",
    "    2. Começam e terminam pelo mesmo caracter.\n",
    "#### Input (exemplo)\n",
    "in: ['abc', 'xyz', 'ab', '1221']\n",
    "#### Output (exemplo)\n",
    "out1: 3\n",
    "\n",
    "out2: 1"
   ]
  },
  {
   "cell_type": "code",
   "execution_count": null,
   "id": "45d3c1c0",
   "metadata": {},
   "outputs": [],
   "source": [
    "def contar(lista):\n",
    "    conta1=[]\n",
    "    conta2=[]\n",
    "    for st in lista:\n",
    "        if st[0]==st[-1]:\n",
    "            conta2=conta2+1\n",
    "        if len(st) >=3:\n",
    "            conta1= conta1+1\n",
    "    print(conta1)\n",
    "    print(conta2)"
   ]
  },
  {
   "cell_type": "code",
   "execution_count": 17,
   "id": "7390bc6a",
   "metadata": {},
   "outputs": [
    {
     "name": "stdout",
     "output_type": "stream",
     "text": [
      "3\n",
      "1\n"
     ]
    }
   ],
   "source": [
    "# Solução do exercício 8\n",
    "def contarStringsLista(lista):\n",
    "    conta1 = 0\n",
    "    conta2 = 0\n",
    "    for st in lista:\n",
    "        if len(st) >= 3:\n",
    "            conta1 = conta1 + 1\n",
    "        if st[0] == st[-1]:\n",
    "            conta2 = conta2 + 1\n",
    "    print(conta1)\n",
    "    print(conta2)\n",
    "\n",
    "contarStringsLista(['abc', 'xyz', 'ab', '1221'])"
   ]
  },
  {
   "cell_type": "markdown",
   "id": "f9ba457b",
   "metadata": {},
   "source": [
    "### Exercício 9: Remover duplicados\n",
    "- Defina uma função que recebe uma lista como argumento e devolve uma nova lista eliminando elementos repetidos."
   ]
  },
  {
   "cell_type": "code",
   "execution_count": 18,
   "id": "0abc61e5",
   "metadata": {},
   "outputs": [
    {
     "data": {
      "text/plain": [
       "[1, 4, 3, 2]"
      ]
     },
     "execution_count": 18,
     "metadata": {},
     "output_type": "execute_result"
    }
   ],
   "source": [
    "# Solução do exercício 9\n",
    "def remDupLista(lista):\n",
    "    listan = []\n",
    "    for elem in lista:\n",
    "        if elem not in listan:\n",
    "            listan.append(elem)\n",
    "    return listan\n",
    "remDupLista([1,4,3,1,2])"
   ]
  },
  {
   "cell_type": "markdown",
   "id": "9bc471d8",
   "metadata": {},
   "source": [
    "### Exercício 10: eVazia?\n",
    "- Defina uma função que recebe uma lista como argumento e devolve um resultado booleano verdadeiro se a lista estiver vazia."
   ]
  },
  {
   "cell_type": "code",
   "execution_count": 20,
   "id": "18cf2aff",
   "metadata": {},
   "outputs": [
    {
     "data": {
      "text/plain": [
       "False"
      ]
     },
     "execution_count": 20,
     "metadata": {},
     "output_type": "execute_result"
    }
   ],
   "source": [
    "# Solução do exercício 10\n",
    "def eVazia(lista):\n",
    "    cond = False\n",
    "    if lista == []:\n",
    "        cond = True\n",
    "    return cond\n",
    "eVazia([1])"
   ]
  },
  {
   "cell_type": "markdown",
   "id": "72b8fac0",
   "metadata": {},
   "source": [
    "### Exercício 11: Copiar lista\n",
    "- Defina uma função que recebe uma lista como argumento e devolve uma nova lista correspondente a uma cópia da lista recebida."
   ]
  },
  {
   "cell_type": "code",
   "execution_count": 22,
   "id": "a61ca503",
   "metadata": {},
   "outputs": [
    {
     "data": {
      "text/plain": [
       "[2, 3, 4]"
      ]
     },
     "execution_count": 22,
     "metadata": {},
     "output_type": "execute_result"
    }
   ],
   "source": [
    "# Solução do exercício 11\n",
    "def copiarLista(lista):\n",
    "    listan = []\n",
    "    for elem in lista:\n",
    "        listan. append(elem)\n",
    "    return listan\n",
    "copiarLista([2,3,4])"
   ]
  },
  {
   "cell_type": "markdown",
   "id": "d170cc50",
   "metadata": {},
   "source": [
    "### Exercício 12: Strings maiores que n carateres\n",
    "- Defina uma função que recebe dois argumentos, uma lista de strings e um número inteiro, e que devolve uma nova lista de strings em que estas têm um comprimento igual ou superior ao valor inteiro passado como argumento."
   ]
  },
  {
   "cell_type": "code",
   "execution_count": 24,
   "id": "1944ef1d",
   "metadata": {},
   "outputs": [
    {
     "data": {
      "text/plain": [
       "['abc', 'xyz', '1221']"
      ]
     },
     "execution_count": 24,
     "metadata": {},
     "output_type": "execute_result"
    }
   ],
   "source": [
    "# Solução do exercício 12\n",
    "def stringsMaioresLista(lista, n):\n",
    "    listan = []\n",
    "    for elem in lista:\n",
    "        if len(elem)>= n:\n",
    "            listan.append(elem)\n",
    "    return listan\n",
    "stringsMaioresLista(['abc', 'xyz', 'ab', '1221'] , 3)"
   ]
  },
  {
   "cell_type": "markdown",
   "id": "af46fe06",
   "metadata": {},
   "source": [
    "### Exercício 13: Comum?\n",
    "- Defina uma função que recebe duas listas como argumento, e que devolve o valor booleano verdadeiro se as listas tiverem pelo menos um elemento comum."
   ]
  },
  {
   "cell_type": "code",
   "execution_count": 27,
   "id": "7a2f4413",
   "metadata": {},
   "outputs": [
    {
     "data": {
      "text/plain": [
       "True"
      ]
     },
     "execution_count": 27,
     "metadata": {},
     "output_type": "execute_result"
    }
   ],
   "source": [
    "# Solução do exercício 13\n",
    "def haComuns(listaA, listaB):\n",
    "    cond = False\n",
    "    for elem in listaA:\n",
    "        if elem in listaB:\n",
    "            cond = True\n",
    "    return cond\n",
    "haComuns([2,4,6],[4,8,10])"
   ]
  },
  {
   "cell_type": "markdown",
   "id": "061bae0e",
   "metadata": {},
   "source": [
    "### Exercício 14: Comuns\n",
    "- Defina uma função que recebe duas listas como argumento, e que devolve uma nova lista com os valores comuns às duas listas."
   ]
  },
  {
   "cell_type": "code",
   "execution_count": 29,
   "id": "02db9458",
   "metadata": {},
   "outputs": [
    {
     "data": {
      "text/plain": [
       "[4]"
      ]
     },
     "execution_count": 29,
     "metadata": {},
     "output_type": "execute_result"
    }
   ],
   "source": [
    "# Solução do exercício 14\n",
    "def comuns(listaA, listaB):\n",
    "    listan = []\n",
    "    for elem in listaA:\n",
    "        if elem in listaB:\n",
    "            listan.append(elem)\n",
    "    return listan\n",
    "comuns([2,4,6],[4,8,10])"
   ]
  },
  {
   "cell_type": "markdown",
   "id": "af4f2b11",
   "metadata": {},
   "source": [
    "### Exercício 15: Únicos\n",
    "- Defina uma função que recebe duas listas como argumento, e que devolve uma nova lista com os valores que apenas existem numa delas."
   ]
  },
  {
   "cell_type": "code",
   "execution_count": 31,
   "id": "01a0d35e",
   "metadata": {},
   "outputs": [
    {
     "data": {
      "text/plain": [
       "[2, 6, 8, 10]"
      ]
     },
     "execution_count": 31,
     "metadata": {},
     "output_type": "execute_result"
    }
   ],
   "source": [
    "# Solução do exercício 15\n",
    "def unicos(listaA, listaB):\n",
    "    listau = []\n",
    "    for elem in listaA:\n",
    "        if elem not in listaB:\n",
    "            listau.append(elem)\n",
    "    for eleme in listaB:\n",
    "        if eleme not in listaA:\n",
    "            listau.append(eleme)\n",
    "    return listau\n",
    "\n",
    "unicos([2,4,6],[4,8,10])"
   ]
  },
  {
   "cell_type": "markdown",
   "id": "2acbab46",
   "metadata": {},
   "source": [
    "### Exercício 16: indiceDe\n",
    "- Defina uma função que recebe uma lista e um elemento como argumento, e que devolve o índice desse elemento na lista. No caso do elemento não existir na lista deverá devolver o valor -1."
   ]
  },
  {
   "cell_type": "code",
   "execution_count": 9,
   "id": "1e0a0f00",
   "metadata": {},
   "outputs": [
    {
     "data": {
      "text/plain": [
       "2"
      ]
     },
     "execution_count": 9,
     "metadata": {},
     "output_type": "execute_result"
    }
   ],
   "source": [
    "def Indice(lista, elem):\n",
    "    i = 0  # Inicializa o índice manualmente\n",
    "    for x in lista:\n",
    "        if x == elem:\n",
    "            return i  # Retorna o índice quando o elemento é encontrado\n",
    "        i += 1  # Incrementa o índice a cada iteração\n",
    "    return -1\n",
    "\n",
    "Indice([2,3,7] , 7)"
   ]
  },
  {
   "cell_type": "code",
   "execution_count": 5,
   "id": "3891e6c3",
   "metadata": {},
   "outputs": [
    {
     "data": {
      "text/plain": [
       "-1"
      ]
     },
     "execution_count": 5,
     "metadata": {},
     "output_type": "execute_result"
    }
   ],
   "source": [
    "# Solução do exercício 16\n",
    "def Indice(lista, elem):\n",
    "    i = 0\n",
    "    for x in lista:\n",
    "        if x == elem:\n",
    "            i = lista.index(elem)\n",
    "        elif x != elem:\n",
    "            i = -1\n",
    "    return i\n",
    "Indice([2,3,7] , 1)"
   ]
  },
  {
   "cell_type": "code",
   "execution_count": 11,
   "id": "0f5dc059",
   "metadata": {},
   "outputs": [
    {
     "data": {
      "text/plain": [
       "0"
      ]
     },
     "execution_count": 11,
     "metadata": {},
     "output_type": "execute_result"
    }
   ],
   "source": [
    "def Indice(lista, elem):\n",
    "    if elem in lista:  # Verifica se o elemento está na lista\n",
    "        return lista.index(elem)  # Retorna o índice do elemento\n",
    "    else:\n",
    "        return -1 \n",
    "\n",
    "Indice([2,3,7] , 2)   \n"
   ]
  },
  {
   "cell_type": "markdown",
   "id": "1d9c2fbc",
   "metadata": {},
   "source": [
    "### Exercício 17: estaOrdenada\n",
    "- Defina uma função que recebe uma lista de números e verifica se a mesma está ordenada por ordem crescente."
   ]
  },
  {
   "cell_type": "code",
   "execution_count": 33,
   "id": "fb44546a",
   "metadata": {},
   "outputs": [],
   "source": [
    "# Solução do exercício 17\n",
    "def estaOrdenada(lista):\n",
    "    cond = True\n",
    "    for n in range(len(lista) - 1):\n",
    "        if lista[n + 1] < lista[n]: #se o elemento a seguirfor menor que o elemento anterior a condição assume-se falsa\n",
    "            cond = False\n",
    "    return cond"
   ]
  },
  {
   "cell_type": "markdown",
   "id": "4c48dc90",
   "metadata": {},
   "source": [
    "### Exercício 18: estaOrdenadaCD\n",
    "- Modifique a função do exercício anterior para receber um parâmetro extra, **ordem**, que poderá ter valores \"C\" ou \"D\" e que vai verificar se a lista está ordenada por ordem crescente se **ordem=\"C\"** ou se está ordenada por ordem decrescente se **ordem=\"D\"**."
   ]
  },
  {
   "cell_type": "code",
   "execution_count": 39,
   "id": "f4b83960",
   "metadata": {},
   "outputs": [
    {
     "data": {
      "text/plain": [
       "True"
      ]
     },
     "execution_count": 39,
     "metadata": {},
     "output_type": "execute_result"
    }
   ],
   "source": [
    "# Solução do exercício 18\n",
    "def estaOrdenadaCD(lista, ordem):\n",
    "    cond = True\n",
    "    for n in range(len(lista) - 1):\n",
    "        if ordem == \"C\":\n",
    "            if lista[n + 1] < lista[n]: #se o elemento a seguirfor menor que o elemento anterior a condição assume-se falsa\n",
    "                cond = False\n",
    "    return cond\n",
    "estaOrdenadaCD([2,3,4,5],\"C\")"
   ]
  },
  {
   "cell_type": "markdown",
   "id": "4193a91b",
   "metadata": {},
   "source": [
    "### TPC4: Aplicação para manipulação de listas de inteiros\n",
    "- Crie uma aplicação em Python que coloca no monitor o seguinte menu:\n",
    "    * (1) Criar Lista \n",
    "    * (2) Ler Lista\n",
    "    * (3) Soma\n",
    "    * (4) Média\n",
    "    * (5) Maior\n",
    "    * (6) Menor\n",
    "    * (7) estaOrdenada por ordem crescente\n",
    "    * (8) estaOrdenada por ordem decrescente\n",
    "    * (9) Procura um elemento\n",
    "    * (0) Sair\n",
    "- O utilizador irá escolher uma das opções introduzindo o número correspondente;\n",
    "- Se a opção não for sair, a aplicação executa a operação pretendida, apresenta o resultado e a seguir apresenta de novo o menu;\n",
    "- Se a opção for sair, a aplicação termina colocando uma mensagem no monitor.\n",
    "\n",
    "* No desenvolvimento da aplicação deverá ter em atenção o seguinte:\n",
    "    - A aplicação terá uma variável interna para guardar uma lista de números;\n",
    "    - Na opção 1, deverá ser criada uma lista de números aleatórios entre 1 e 100 que será guardada na variável interna;\n",
    "    - Na opção 2, deverá ser criada uma lista com números introduzidos pelo utilizador, que será guardada na variável interna;\n",
    "    - Nestas primeiras opções, se a variável interna já tiver uma lista, esta será sobreposta/apagada pela nova lista;\n",
    "    - Na opção 3, será calculada a soma dos elementos na lista no momento;\n",
    "    - Na opção 4, será calculada a média dos elementos na lista no momento;\n",
    "    - Na opção 5, será calculado o maior elemento da lista no momento;\n",
    "    - Na opção 6, será calculado o menor elemento da lista no momento;\n",
    "    - Na opção 7, a aplicação deverá indicar (Sim/Não) se a lista está ordenada por ordem crescente;\n",
    "    - Na opção 8, a aplicação deverá indicar (Sim/Não) se a lista está ordenada por ordem decrescente;\n",
    "    - Na opção 9, a aplicação irá procurar um elemento na lista, se o encontrar deverá devolver a sua posição, devolverá -1 se o elemento não estiver na lista;\n",
    "    - Se o utilizador selecionar a opção 0, a aplicação deverá terminar mostrando a lista que está nesse momento guardada."
   ]
  },
  {
   "cell_type": "code",
   "execution_count": null,
   "id": "4aca2676",
   "metadata": {},
   "outputs": [],
   "source": [
    "\n",
    "def exibirmenu():\n",
    "    print('-----------------Menu----------------')\n",
    "    print('Selecione uma opção')\n",
    "    print('Criar Lista')\n",
    "    print('Ler lista')\n",
    "    print('Soma')\n",
    "    print('Média')\n",
    "    print('Maior')\n",
    "    print('Menor')\n",
    "    print('Ordenada por ordem crescente')\n",
    "    print('Ordenada por ordem decrescente')\n",
    "    print('procurar elemento')\n",
    "    print('Sair')\n",
    "\n",
    "def crialista():\n",
    "    lista=[i for i in range(1, 101)]\n",
    "    print(f\"Lista gerada: {lista}\")\n",
    "    return lista\n",
    "\n",
    "def lerlista():\n",
    "    lista=[]\n",
    "    N=int(input('Quantos numeros quer colocar?'))\n",
    "    while N>0:\n",
    "        if lista==None:\n",
    "            n=int(input('Coloque os numeros que uqer'))\n",
    "            lista.append(n)\n",
    "            N=N-1\n",
    "        else:\n",
    "            lista.pop()\n",
    "        \n",
    "    return lista\n",
    "\n",
    "def soma(lista):\n",
    "    soma=0\n",
    "    for n in lista:\n",
    "        soma=soma+n\n",
    "    return soma\n",
    "\n",
    "def media(lista):\n",
    "    return soma(lista)/len(lista)\n",
    "\n",
    "def maior(lista):\n",
    "    maior=0    \n",
    "    for n in lista:\n",
    "        if n>maior:\n",
    "            maior=n\n",
    "    return maior\n",
    "\n",
    "def menor(lista):\n",
    "    menor = lista[len(lista)-1]\n",
    "    for n in lista:\n",
    "        if n < menor:\n",
    "            menor = n\n",
    "    return menor\n",
    "\n",
    "def estaOrdenadaC(lista):\n",
    "    cond = True\n",
    "    for n in range(len(lista) - 1):\n",
    "        if lista[n + 1] < lista[n]: #se o elemento a seguirfor menor que o elemento anterior a condição assume-se falsa\n",
    "            cond = False\n",
    "    return cond\n",
    "\n",
    "def estaOrdenadaCD(lista):\n",
    "    cond = True\n",
    "    for n in range(len(lista) - 1):\n",
    "        if lista[n + 1] > lista[n]: #se o elemento a seguirfor menor que o elemento anterior a condição assume-se falsa\n",
    "            cond = False\n",
    "    return cond\n",
    "\n",
    "def Indice(lista, elem):\n",
    "    if elem in lista:  # Verifica se o elemento está na lista\n",
    "        return lista.index(elem)  # Retorna o índice do elemento\n",
    "    else:\n",
    "        return -1 \n",
    "\n",
    "########################################################################################################################################\n",
    "\n",
    "lista=[]\n",
    "\n",
    "while True:\n",
    "    exibirmenu()\n",
    "    opção=input('Escolha uma opção')\n",
    "\n",
    "    if opção=='1':\n",
    "        lista=crialista()\n",
    "\n",
    "    elif opção=='2':\n",
    "        lista= lerlista()\n",
    "\n",
    "    elif opção=='3':\n",
    "        print(f'Soma dos elementos é{soma(lista)}')\n",
    "\n",
    "    elif opção== '4':\n",
    "        print(f'A média dos numeros é {media(lista)}')\n",
    "\n",
    "    elif opção== '5':\n",
    "        print(f'O maior elemento é')\n",
    "\n",
    "\n",
    "\n",
    "\n",
    "\n",
    "\n",
    "\n",
    "    \n"
   ]
  }
 ],
 "metadata": {
  "kernelspec": {
   "display_name": "Python 3.9.1 64-bit",
   "language": "python",
   "name": "python3"
  },
  "language_info": {
   "codemirror_mode": {
    "name": "ipython",
    "version": 3
   },
   "file_extension": ".py",
   "mimetype": "text/x-python",
   "name": "python",
   "nbconvert_exporter": "python",
   "pygments_lexer": "ipython3",
   "version": "3.11.5"
  },
  "vscode": {
   "interpreter": {
    "hash": "aee8b7b246df8f9039afb4144a1f6fd8d2ca17a180786b69acc140d282b71a49"
   }
  }
 },
 "nbformat": 4,
 "nbformat_minor": 5
}
