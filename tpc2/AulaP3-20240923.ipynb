{
 "cells": [
  {
   "cell_type": "markdown",
   "id": "1e545158",
   "metadata": {},
   "source": [
    "# Aula Prática 2 (guião)\n",
    "### Semana de 23 a 27 de Setembro de 2024\n",
    "### José Carlos Ramalho e Luís Cunha\n",
    "### Sinopsis:\n",
    "Algoritmos de cálculo numérico envolvendo estruturas condicionais (if-elif-else) e cíclicas (while)."
   ]
  },
  {
   "cell_type": "markdown",
   "id": "e38d18c4-d7d7-4fea-9bc6-e3f3c903386b",
   "metadata": {},
   "source": [
    "### Exercício 1: Soma de N números\n",
    "- Leia um número N;\n",
    "- Leia N números;\n",
    "- Imprima a soma dos N números."
   ]
  },
  {
   "cell_type": "code",
   "execution_count": 1,
   "id": "af973146-3bb4-4fa8-ba6c-b887b79ccff8",
   "metadata": {},
   "outputs": [],
   "source": [
    "# Solução do exercício 1"
   ]
  },
  {
   "cell_type": "markdown",
   "id": "13b62657",
   "metadata": {},
   "source": [
    "### Exercício 2: Números pares\n",
    "- Leia um número N;\n",
    "- Leia N números;\n",
    "- Imprima os números pares na saída."
   ]
  },
  {
   "cell_type": "markdown",
   "id": "bdcbffb0",
   "metadata": {},
   "source": [
    "### Exercício 3: O Maior de N números\n",
    "- Leia um número N;\n",
    "- Leia N números;\n",
    "- Imprima o maior dos N números."
   ]
  },
  {
   "cell_type": "code",
   "execution_count": 2,
   "id": "af973146-3bb4-4fa8-ba6c-b887b79ccff8",
   "metadata": {},
   "outputs": [],
   "source": [
    "# Solução do exercício 3"
   ]
  },
  {
   "cell_type": "markdown",
   "id": "bdcbffb0",
   "metadata": {},
   "source": [
    "### Exercício 4: O Menor de N números\n",
    "- Leia um número N;\n",
    "- Leia N números;\n",
    "- Imprima o menor dos N números."
   ]
  },
  {
   "cell_type": "code",
   "execution_count": 3,
   "id": "64ad6f7b",
   "metadata": {},
   "outputs": [],
   "source": [
    "# Solução do exercício 4"
   ]
  },
  {
   "cell_type": "markdown",
   "id": "bdcbffb0",
   "metadata": {},
   "source": [
    "### Exercício 5: A Média de N números\n",
    "- Leia um número N;\n",
    "- Leia N números;\n",
    "- Imprima a média dos N números."
   ]
  },
  {
   "cell_type": "code",
   "execution_count": 4,
   "id": "a6c32b2e",
   "metadata": {},
   "outputs": [],
   "source": [
    "# Solução do exercício 5"
   ]
  },
  {
   "cell_type": "markdown",
   "id": "46a52784",
   "metadata": {},
   "source": [
    "### Exercício 6: Potência\n",
    "- Defina uma função **pot** que recebe dois parâmetros, **a** e **b**, e retorna o resultado de **a elevado à potência de b**.\n",
    "- Use esta função para escrever no monitor as potências de 2 com expoentes de 1 a 20."
   ]
  },
  {
   "cell_type": "code",
   "execution_count": null,
   "id": "73ebf338",
   "metadata": {},
   "outputs": [],
   "source": [
    "# Solução do exercício 6\n"
   ]
  },
  {
   "cell_type": "markdown",
   "id": "a09b4add",
   "metadata": {},
   "source": [
    "### Exercício 7: Divisão inteira\n",
    "- Defina uma função **divisao** que recebe dois parâmetros **a** e **b** e retorna o resultado da **divisão inteira de a por b** (neste exercício não poderá usar as operações de divisão '/' e do resto '%')."
   ]
  },
  {
   "cell_type": "code",
   "execution_count": null,
   "id": "36dbd5aa",
   "metadata": {},
   "outputs": [],
   "source": [
    "# Solução do exercício 7"
   ]
  },
  {
   "cell_type": "markdown",
   "id": "0490effe",
   "metadata": {},
   "source": [
    "### Exercício 8: Resto\n",
    "- Defina uma função **resto** que recebe dois parâmetros **a** e **b** e retorna o **resto da divisão inteira de a por b** (neste exercício não poderá usar as operações de divisão '/' e do resto '%')."
   ]
  },
  {
   "cell_type": "code",
   "execution_count": null,
   "id": "3fea0e05",
   "metadata": {},
   "outputs": [],
   "source": [
    "# Solução do exercício 8"
   ]
  },
  {
   "cell_type": "markdown",
   "id": "d11cdd11",
   "metadata": {},
   "source": [
    "### Exercício 9: Série numérica\n",
    "- Defina uma função **serie** que recebe três parâmetros, **base**, **salto** e **nelems**, e escreve no monitor a série;\n",
    "- Invocada com: **serie(7, 4, 5)** escreveria: 7, 11, 15, 19, 23"
   ]
  },
  {
   "cell_type": "code",
   "execution_count": 6,
   "id": "7549c7d7",
   "metadata": {},
   "outputs": [],
   "source": [
    "# Solução do exercício 9\n"
   ]
  },
  {
   "cell_type": "markdown",
   "id": "73187e87",
   "metadata": {},
   "source": [
    "### Exercício 10: Desenhar um quadrado\n",
    "- Defina uma função **quad** que recebe um parâmetro, **n**, e desenha no monitor um quadrado usando o caráter '#'."
   ]
  },
  {
   "cell_type": "code",
   "execution_count": 7,
   "id": "a31f8eaf",
   "metadata": {},
   "outputs": [],
   "source": [
    "# Solução do exercício 10"
   ]
  },
  {
   "cell_type": "markdown",
   "id": "f4e2bc84",
   "metadata": {},
   "source": [
    "### Exercício 11: Índice de Massa Corporal\n",
    "- Defina uma função **imc** que recebe dois parâmetros, **peso**,**altura**, calcula o IMC corresponente e interpreta esse resultado.\n",
    "- imc(53,1.56) - Output: \"O seu índice de massa corporal é **21.78** e encontra-se na categoria **Normal**\"\n",
    "- imc(83,1.56) - Output: \"O seu índice de massa corporal é **34.11** e encontra-se na categoria **Obesidade grau I**\"\n",
    "\n",
    "Valores:\n",
    "- Menor que 18,5 - Baixo peso\n",
    "- 18,5 a 24,9 - Normal\n",
    "- 25 a 29,9\t- Excesso de peso\n",
    "- 30 a 34,9\t- Obesidade grau I\n",
    "- 35 a 39,9\t- Obesidade grau II\n",
    "- Maior que 40\t- Obesidade grau III"
   ]
  },
  {
   "cell_type": "code",
   "execution_count": 18,
   "id": "2a62004a",
   "metadata": {},
   "outputs": [],
   "source": [
    "# Solução do exercício 11"
   ]
  },
  {
   "cell_type": "markdown",
   "id": "cb1f80eb",
   "metadata": {},
   "source": [
    "### Exercício 12: Mínimo múltiplo comum \n",
    "\n",
    "- Defina uma função **mmc** que recebe dois parâmetros **a** e **b** e retorna como resultado o **mínimo múltiplo comum de a e b**."
   ]
  },
  {
   "cell_type": "code",
   "execution_count": null,
   "id": "739d6b09",
   "metadata": {},
   "outputs": [],
   "source": [
    "# Solução do exercício 12: mmc"
   ]
  },
  {
   "cell_type": "markdown",
   "id": "cb5c930a",
   "metadata": {},
   "source": [
    "### Exercício 13: Aplicação final \n",
    "\n",
    "Junta todos os exercícios que realizaste nesta ficha numa aplicação em Python:\n",
    "* Cria um menu com as funcionalidades desenvolvidas (faz uma função para escrever o menu);\n",
    "* Lê qual a opção do utilizador;\n",
    "* Executa a respetiva função, apresenta o resultado, e volta a colocar o menu e a questionar o utilizador;\n",
    "* Repete até o utilizador ter escolhido a opção de (S)air da aplicação.\n"
   ]
  },
  {
   "cell_type": "markdown",
   "id": "1cf1b437",
   "metadata": {},
   "source": [
    "## TPC3: Jogo dos 21 fósforos\n",
    "\n",
    "Desenvolve em Python o código necessário para o jogo dos 21 fósforos: \n",
    "\n",
    "### O jogo\n",
    "\n",
    "* No início do jogo, há 21 fósforos;\n",
    "* Cada jogador (computador ou utilizador), pode tirar 1, 2, 3 ou 4 fósforos quando for a sua vez de jogar;\n",
    "* Os jogadores jogam alternadamente;\n",
    "* **Quem tirar o último fósforo perde!**\n",
    "\n",
    "### O programa \n",
    "\n",
    "* O jogo deverá ter dois modos: o jogador joga em primeiro lugar e o computador começa a jogar em segundo lugar e, no segundo modo, o computador começa em primeiro; \n",
    "* Quando o computador começa a jogar em segundo lugar, deve ganhar sempre o jogo;\n",
    "* Quando o computador começa a jogar em primeiro lugar, se o utilizador cometer um erro de cálculo, o computador deverá passar para a posição de vencedor e ganhar o jogo."
   ]
  },
  {
   "cell_type": "code",
   "execution_count": null,
   "id": "7428ca6d",
   "metadata": {},
   "outputs": [],
   "source": [
    "def jogar(primeiro_jogador):\n",
    "    fosforos = 21\n",
    "    jogador_atual = primeiro_jogador  \n",
    "\n",
    "    while fosforos > 0:\n",
    "        print(f\"\\nFósforos restantes: {fosforos}\")\n",
    "        \n",
    "        if jogador_atual == 'usuario':\n",
    "            # Jogada do usuário\n",
    "            jogada = int(input(\"Sua vez! Escolha quantos fósforos tirar (1 a 4): \"))\n",
    "            while jogada < 1 or jogada > 4 or jogada > fosforos:\n",
    "                jogada = int(input(f\"Jogada inválida! Escolha um número entre 1 e {min(4, fosforos)}: \"))\n",
    "            fosforos -= jogada\n",
    "            if fosforos == 0:\n",
    "                print(\"Você tirou o último fósforo. Você perdeu!\")\n",
    "                break\n",
    "            jogador_atual = 'computador'\n",
    "        else:\n",
    "            # Jogada do computador\n",
    "            jogada = jogada_computador(fosforos)\n",
    "            print(f\"O computador tirou {jogada} fósforos.\")\n",
    "            fosforos -= jogada\n",
    "            if fosforos == 0:\n",
    "                print(\"O computador tirou o último fósforo. Você venceu!\")\n",
    "                break\n",
    "            jogador_atual = 'usuario'\n",
    "\n",
    "def jogada_computador(fosforos):\n",
    "    # Estratégia para ganhar: manter um múltiplo de 5\n",
    "    jogada = (fosforos - 1) % 5\n",
    "    if jogada == 0:\n",
    "        # Se não houver forma de manter múltiplo de 5, jogar aleatoriamente entre 1 e 4\n",
    "        jogada = random.randint(1, min(4, fosforos))\n",
    "    return jogada\n",
    "\n",
    "def main():\n",
    "    print(\"Bem-vindo ao jogo dos 21 fósforos!\")\n",
    "    print(\"Modo de jogo:\")\n",
    "    print(\"1 - Você começa jogando\")\n",
    "    print(\"2 - O computador começa jogando\")\n",
    "    \n",
    "    modo = int(input(\"Escolha o modo (1 ou 2): \"))\n",
    "    while modo not in [1, 2]:\n",
    "        modo = int(input(\"Modo inválido! Escolha 1 ou 2: \"))\n",
    "\n",
    "    if modo == 1:\n",
    "        jogar('usuario')\n",
    "    else:\n",
    "        jogar('computador')\n",
    "\n",
    "if __name__ == \"__main__\":\n",
    "    main()\n"
   ]
  }
 ],
 "metadata": {
  "kernelspec": {
   "display_name": "Python 3.9.7 64-bit",
   "language": "python",
   "name": "python3"
  },
  "language_info": {
   "codemirror_mode": {
    "name": "ipython",
    "version": 3
   },
   "file_extension": ".py",
   "mimetype": "text/x-python",
   "name": "python",
   "nbconvert_exporter": "python",
   "pygments_lexer": "ipython3",
   "version": "3.11.5"
  },
  "vscode": {
   "interpreter": {
    "hash": "916dbcbb3f70747c44a77c7bcd40155683ae19c65e1c03b4aa3499c5328201f1"
   }
  }
 },
 "nbformat": 4,
 "nbformat_minor": 5
}
