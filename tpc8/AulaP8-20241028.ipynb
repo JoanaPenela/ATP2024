{
 "cells": [
  {
   "cell_type": "markdown",
   "id": "1e545158",
   "metadata": {},
   "source": [
    "# Aula Prática 8 (guião)\n",
    "### Semana de 28 de Outubro a 1 de Novembro de 2023\n",
    "### José Carlos Ramalho e Luís Cunha\n",
    "### Sinopsis:\n",
    "Consolidação e aferição de tudo o que foi feito até ao momento. "
   ]
  },
  {
   "cell_type": "markdown",
   "id": "9b9b5140-2b81-435e-9fc0-324437a7b453",
   "metadata": {},
   "source": [
    "### Assunto: Frações\n",
    "Vamos pensar num modelo: o que é uma fração estruturalmente?"
   ]
  },
  {
   "cell_type": "code",
   "execution_count": 35,
   "id": "5a6da5eb",
   "metadata": {},
   "outputs": [],
   "source": [
    "# Modelo duma fração\n",
    "f1 = (1,3)   \n",
    "\n",
    "# Modelo duma lista de frações\n",
    "#lf1 = #[???] # 1/2, 1/3, 1/4"
   ]
  },
  {
   "cell_type": "markdown",
   "id": "d477052b-e074-4a5d-ac12-85c2286a1e5f",
   "metadata": {},
   "source": [
    "### Construtor"
   ]
  },
  {
   "cell_type": "code",
   "execution_count": 36,
   "id": "33d1c7e9-22af-4473-9b21-3e7ce0fcf571",
   "metadata": {},
   "outputs": [
    {
     "data": {
      "text/plain": [
       "'2/3'"
      ]
     },
     "execution_count": 36,
     "metadata": {},
     "output_type": "execute_result"
    }
   ],
   "source": [
    "def criarFracao(numerador, denominador):\n",
    "    fração=(numerador, denominador)\n",
    "    return fração\n",
    "\n",
    "def verFracao(f):\n",
    "    numerador, denominador= f\n",
    "    \n",
    "    return f'{ f[0]}/{f[1]}'\n",
    "\n",
    "f1 = criarFracao(2,3)\n",
    "verFracao(f1)"
   ]
  },
  {
   "cell_type": "code",
   "execution_count": null,
   "id": "d46df3ff",
   "metadata": {},
   "outputs": [],
   "source": []
  },
  {
   "cell_type": "markdown",
   "id": "f7cd0ff1",
   "metadata": {},
   "source": [
    "### Simplificação de frações"
   ]
  },
  {
   "cell_type": "code",
   "execution_count": 37,
   "id": "8b0fa08f",
   "metadata": {},
   "outputs": [
    {
     "name": "stdout",
     "output_type": "stream",
     "text": [
      "(11, 16)\n"
     ]
    }
   ],
   "source": [
    "#def mdc(a,b):\n",
    " #   while b != 0:\n",
    "  #      a, b = b, a % b\n",
    "   # return a\n",
    "\n",
    "\n",
    "\n",
    "def mdc (a,b):\n",
    "    res=b\n",
    "    while a%b !=0:\n",
    "        res=b\n",
    "        b= a%b\n",
    "        a=res\n",
    "    return b\n",
    "\n",
    "def simplificarFracao(f):\n",
    "    numerador, denominador= f\n",
    "    divisor_comum= mdc(numerador,denominador)\n",
    "    denominador_simplificado= denominador // divisor_comum\n",
    "    numerador_simplificado= numerador//divisor_comum\n",
    "\n",
    "\n",
    "    return numerador_simplificado,denominador_simplificado\n",
    "\n",
    "# def simplificarFração(f):\n",
    "#   return (f[0]// mdc(f[0], f[1]), f[1]//mdc(f[0],f[1]))\n",
    "\n",
    "print(simplificarFracao((55, 80)))"
   ]
  },
  {
   "cell_type": "code",
   "execution_count": 38,
   "id": "1f793529",
   "metadata": {},
   "outputs": [],
   "source": [
    "#pela recursiva\n",
    "def mdc(a,b):\n",
    "    if a<b:\n",
    "        a,b=b,a\n",
    "    if a%b==0:\n",
    "        return b\n",
    "    else:\n",
    "        return mdc(b,a%b)"
   ]
  },
  {
   "cell_type": "code",
   "execution_count": 39,
   "id": "8821d031",
   "metadata": {},
   "outputs": [
    {
     "data": {
      "text/plain": [
       "'3/20'"
      ]
     },
     "execution_count": 39,
     "metadata": {},
     "output_type": "execute_result"
    }
   ],
   "source": [
    "verFracao(simplificarFracao(criarFracao(21, 140)))"
   ]
  },
  {
   "cell_type": "markdown",
   "id": "ca2f1736",
   "metadata": {},
   "source": [
    "### Frações equivalentes\n",
    "\n",
    "Defina uma função que recebe duas frações como argumento e devolve `True` se as frações são equivalentes e `False` caso contrário."
   ]
  },
  {
   "cell_type": "code",
   "execution_count": 40,
   "id": "58bdae83",
   "metadata": {},
   "outputs": [
    {
     "data": {
      "text/plain": [
       "True"
      ]
     },
     "execution_count": 40,
     "metadata": {},
     "output_type": "execute_result"
    }
   ],
   "source": [
    "def mdc (a,b):\n",
    "    res=b\n",
    "    while a%b !=0:\n",
    "        res=b\n",
    "        b= a%b\n",
    "        a=res\n",
    "    return b\n",
    "\n",
    "def simplificarFracao(f):\n",
    "    numerador, denominador= f\n",
    "    divisor_comum= mdc(numerador, denominador)\n",
    "    denominador_simplificado= denominador // divisor_comum\n",
    "    numerador_simplificado= numerador//divisor_comum\n",
    "\n",
    "\n",
    "    return numerador_simplificado, denominador_simplificado\n",
    "\n",
    "def equivalenteFracao(f1,f2):\n",
    "    res=False\n",
    "    num1, den1 = simplificarFracao(f1)\n",
    "    num2, den2 = simplificarFracao(f2)\n",
    "    if num1 == num2 and den1 == den2:\n",
    "        res= True\n",
    "    return res\n",
    "\n",
    "\n",
    "equivalenteFracao((1,2), (14,28))"
   ]
  },
  {
   "cell_type": "markdown",
   "id": "d52f012f",
   "metadata": {},
   "source": [
    "## Operações sobre frações"
   ]
  },
  {
   "cell_type": "code",
   "execution_count": 47,
   "id": "96ba280b",
   "metadata": {},
   "outputs": [
    {
     "data": {
      "text/plain": [
       "'1/1'"
      ]
     },
     "execution_count": 47,
     "metadata": {},
     "output_type": "execute_result"
    }
   ],
   "source": [
    "def somarFrac(f1, f2):\n",
    "    return simplificarFracao((f1[0]*f2[1] + f2[0]*f1[1], f1[1]*f2[1]))\n",
    "\n",
    "f1 = criarFracao(15, 21)\n",
    "f2 = criarFracao(5,7)\n",
    "verFracao(somarFrac(f1,f2))\n",
    "verFracao(somarFrac((1,2),(1,2)))"
   ]
  },
  {
   "cell_type": "code",
   "execution_count": 42,
   "id": "a0198bce",
   "metadata": {},
   "outputs": [
    {
     "name": "stdout",
     "output_type": "stream",
     "text": [
      "[(5, 3), (4, 9), (1, 12), (7, 15), (9, 13), (7, 12), (4, 19), (6, 17), (9, 4), (1, 14), (6, 12), (2, 3), (8, 9), (9, 3), (8, 10), (2, 9), (7, 8), (6, 7), (6, 18)]\n"
     ]
    }
   ],
   "source": [
    "listaFrac = [f1, f2, criarFracao(125,1000), (8,12)]\n",
    "listaFrac2 = []\n",
    "import random\n",
    "for i in range(1,20):\n",
    "    n = random.randrange(1, 10)\n",
    "    d = random.randrange(2, 20)\n",
    "    listaFrac2.append(criarFracao(n,d))\n",
    "print(listaFrac2)"
   ]
  },
  {
   "cell_type": "markdown",
   "id": "e83e4eae",
   "metadata": {},
   "source": [
    "### Soma uma lista de frações"
   ]
  },
  {
   "cell_type": "code",
   "execution_count": 48,
   "id": "402d83f0",
   "metadata": {},
   "outputs": [
    {
     "name": "stdout",
     "output_type": "stream",
     "text": [
      "[(15, 21), (5, 7), (125, 1000), (8, 12)]\n",
      "373/168\n",
      "158350813/10581480\n"
     ]
    }
   ],
   "source": [
    "def somarListaFracoes(lista):\n",
    "    soma_total = lista[0]  # Inicializa a soma como a fração 0/1\n",
    "    for frac in lista[1:]:\n",
    "        soma_total = somarFrac(soma_total, frac)\n",
    "    return soma_total\n",
    "\n",
    "print(listaFrac)\n",
    "print(verFracao(somarListaFracoes(listaFrac)))\n",
    "print(verFracao(somarListaFracoes(listaFrac2)))"
   ]
  },
  {
   "cell_type": "markdown",
   "id": "a88929cc",
   "metadata": {},
   "source": [
    "### Multiplica 2 frações"
   ]
  },
  {
   "cell_type": "code",
   "execution_count": null,
   "id": "519c5358",
   "metadata": {},
   "outputs": [],
   "source": [
    "def multFrac(f1, f2):\n",
    "\n",
    "    return f1[0]*f2[0], f1[1]*f2[1]"
   ]
  },
  {
   "cell_type": "markdown",
   "id": "d1f0c8fa",
   "metadata": {},
   "source": [
    "### Ordenar uma lista de frações por ordem decrescente"
   ]
  },
  {
   "cell_type": "code",
   "execution_count": null,
   "id": "b783df02",
   "metadata": {},
   "outputs": [],
   "source": [
    "def ordena(f):\n",
    "    return f[0]/f[1]\n",
    "\n",
    "def ordenaFracDec(lista):\n",
    "\n",
    "    x = sorted(lista, reverse=True, key=ordena) # é no que s evai basear o key                                        \n",
    "\n",
    "    return x\n",
    "\n",
    "print(ordenaFracDec(listaFrac))"
   ]
  },
  {
   "cell_type": "markdown",
   "id": "fcd5b5d6",
   "metadata": {},
   "source": [
    "### Guardar uma lista de frações num ficheiro"
   ]
  },
  {
   "cell_type": "code",
   "execution_count": 25,
   "id": "2840f9b2",
   "metadata": {},
   "outputs": [],
   "source": [
    "def gravaListaFrac(fnome, lista):\n",
    "    f=open(fnome, 'w')\n",
    "    for frac in lista:\n",
    "        f.write(f'{frac[0]}/{frac[1]}\\n')\n",
    "    f.close()\n",
    "    return"
   ]
  },
  {
   "cell_type": "code",
   "execution_count": 26,
   "id": "e75fe6c7",
   "metadata": {},
   "outputs": [],
   "source": [
    "gravaListaFrac(\"fracoes.txt\", listaFrac)"
   ]
  },
  {
   "cell_type": "markdown",
   "id": "0664fcdc",
   "metadata": {},
   "source": [
    "### Recuperar uma lista de frações dum ficheiro"
   ]
  },
  {
   "cell_type": "code",
   "execution_count": null,
   "id": "82aece6e",
   "metadata": {},
   "outputs": [],
   "source": [
    "def carregaListaFrac(fnome):\n",
    "    res = []\n",
    "    f=open(fnome,\"r\")\n",
    "    for line in f:\n",
    "        line=line.strip\n",
    "        n,d=line.split(\"/\")\n",
    "        res.append((int(n),int(d)))\n",
    "    f.close()\n",
    "    return res"
   ]
  },
  {
   "cell_type": "code",
   "execution_count": null,
   "id": "28457bf3",
   "metadata": {},
   "outputs": [],
   "source": [
    "listaAula = carregaListaFrac(\"fracoes.txt\")\n",
    "print(listaAula)"
   ]
  },
  {
   "cell_type": "markdown",
   "id": "4193a91b",
   "metadata": {},
   "source": [
    "## TPC8: Teste de aferição\n",
    "\n",
    "Resolva os problemas apresentados a seguir."
   ]
  },
  {
   "cell_type": "markdown",
   "id": "ecb162bd",
   "metadata": {},
   "source": [
    "### tpc-1. Especifique as seguintes listas em compreensão:"
   ]
  },
  {
   "cell_type": "markdown",
   "id": "4e758271",
   "metadata": {},
   "source": [
    "#### a) Lista formada pelos elementos que não são comuns às duas listas:"
   ]
  },
  {
   "cell_type": "code",
   "execution_count": null,
   "id": "1fe48423",
   "metadata": {},
   "outputs": [],
   "source": [
    "lista1 = [1, 2, 3, 4, 5]\n",
    "lista2 = [4, 5, 6, 7, 8]  \n",
    "ncomuns = [...]\n",
    "# Resultado esperado: [1,2,3,7,8]"
   ]
  },
  {
   "cell_type": "markdown",
   "id": "0ded2f03",
   "metadata": {},
   "source": [
    "#### b) Lista formada pelas palavras do texto compostas por mais de 3 letras:"
   ]
  },
  {
   "cell_type": "code",
   "execution_count": null,
   "id": "4ae7f5d0",
   "metadata": {},
   "outputs": [],
   "source": [
    "texto = \"\"\"Vivia há já não poucos anos algures num concelho do Ribatejo \n",
    "    um pequeno lavrador e negociante de gado chamado Manuel Peres Vigário\"\"\"\n",
    "lista = [...]\n",
    "# Resultado esperado: ['Vivia', 'poucos', 'anos', 'algures', 'concelho', ...]"
   ]
  },
  {
   "cell_type": "markdown",
   "id": "ecf72afd",
   "metadata": {},
   "source": [
    "#### c) Lista formada por pares do tipo (índice, valor) com os valores da lista dada:"
   ]
  },
  {
   "cell_type": "code",
   "execution_count": null,
   "id": "876b2cc3",
   "metadata": {},
   "outputs": [],
   "source": [
    "lista = ['anaconda', 'burro', 'cavalo', 'macaco']\n",
    "listaRes = [...]\n",
    "# Resultado esperado: [(1,'anaconda'), (2,'burro'), (3,'cavalo'), (4,'macaco')]"
   ]
  },
  {
   "cell_type": "markdown",
   "id": "28cb3dc4",
   "metadata": {},
   "source": [
    "### tpc-2. À semelhança do que foi feito nas aulas, realize as seguintes tarefas:"
   ]
  },
  {
   "cell_type": "markdown",
   "id": "5d3f1dbe",
   "metadata": {},
   "source": [
    "#### a) Especifique uma função que dada uma string e uma substring não vazia, calcula  o número de vezes em que a substring aparece na string, sem que haja sobreposição de substrings:"
   ]
  },
  {
   "cell_type": "code",
   "execution_count": null,
   "id": "4458c7bc",
   "metadata": {},
   "outputs": [],
   "source": [
    "def strCount(s, subs):\n",
    "    # ... \n",
    "    return \n",
    "\n",
    "strCount(\"catcowcat\", \"cat\") # --> 2\n",
    "strCount(\"catcowcat\", \"cow\") # --> 1\n",
    "strCount(\"catcowcat\", \"dog\") # --> 0"
   ]
  },
  {
   "cell_type": "markdown",
   "id": "e6db31d7",
   "metadata": {},
   "source": [
    "#### b) Especifique uma função que recebe uma lista de números inteiros positivos e devolve o menor produto que for possível calcular multiplicando os 3 menores inteiros da lista:"
   ]
  },
  {
   "cell_type": "code",
   "execution_count": null,
   "id": "2b5ad344",
   "metadata": {},
   "outputs": [],
   "source": [
    "def produtoM3(lista):\n",
    "    # ... \n",
    "    return  \n",
    "\n",
    "print(produtoM3([12,3,7,10,12,8,9]))\n",
    "# Resultado esperado: 168 = 3 * 7 * 8"
   ]
  },
  {
   "cell_type": "markdown",
   "id": "6698b337",
   "metadata": {},
   "source": [
    "#### c) Especifique uma função que dado um número inteiro positivo, repetidamente adiciona os seus dígitos até obter apenas um dígito que é retornado como resultado:"
   ]
  },
  {
   "cell_type": "code",
   "execution_count": null,
   "id": "54cef309",
   "metadata": {},
   "outputs": [],
   "source": [
    "# Input: 38\n",
    "# Output: 2\n",
    "# Explicação: 3 + 8 = 11, 1 + 1 = 2.\n",
    "\n",
    "# Input: 777\n",
    "# Output: 3\n",
    "# Explicação: 7 + 7 + 7 = 21, 2 + 1 = 3.\n",
    "\n",
    "def reduxInt(n):\n",
    "    # ...\n",
    "    return "
   ]
  },
  {
   "cell_type": "markdown",
   "id": "4a47b6e8",
   "metadata": {},
   "source": [
    "#### d) Especifique uma função que recebe duas strings, `string1` e `string2`, e devolve o índice da primeira ocorrência de `string2` em `string1`, caso não ocorra nenhuma vez a função deverá retornar `-1`:"
   ]
  },
  {
   "cell_type": "code",
   "execution_count": null,
   "id": "f0f4c2a8",
   "metadata": {},
   "outputs": [],
   "source": [
    "# Invocação: indexOf(\"Hoje está um belo dia de sol!\", \"belo\")\n",
    "# Resultado: 13\n",
    "\n",
    "# Invocação: indexOf(\"Hoje está um belo dia de sol!\", \"chuva\")\n",
    "# Resultado: -1\n",
    "\n",
    "def myIndexOf(s1, s2):\n",
    "    # ...\n",
    "    return"
   ]
  },
  {
   "cell_type": "markdown",
   "id": "7cd572fc",
   "metadata": {},
   "source": [
    "### tpc-3. A Rede Social\n",
    "\n",
    "Considere que a informação sobre uma rede social está armazenada numa lista de dicionários.\n",
    "\n",
    "Cada dicionário, correspondente a um _post_ e tem chaves `id`, `conteudo`, `autor`, `dataCriacao` e `comentarios`.\n",
    "Por sua vez, `comentarios` é uma lista de dicionários com chaves `comentario` e `autor`.\n",
    "\n",
    "Considere o seguinte exemplo:\n",
    "\n",
    "``` \n",
    "    MyFaceBook = [{\n",
    "        'id': 'p1', \n",
    "        'conteudo': 'A tarefa de avaliação é talvez a mais ingrata das tarefas que um professor\n",
    "    tem de realizar...', \n",
    "        'autor': 'jcr', \n",
    "        'dataCriacao': '2023-07-20', \n",
    "        'comentarios': [\n",
    "            {\n",
    "                'comentario': 'Completamente de acordo...',\n",
    "                'autor': 'prh'\n",
    "            },\n",
    "            {\n",
    "                'comentario': 'Mas há quem goste...',\n",
    "                'autor': 'jj'\n",
    "            }\n",
    "        ]},\n",
    "        {\n",
    "            'id': 'p2',\n",
    "            ...\n",
    "        },\n",
    "        ...\n",
    "        ]\n",
    "```"
   ]
  },
  {
   "cell_type": "code",
   "execution_count": null,
   "id": "230d01a2",
   "metadata": {},
   "outputs": [],
   "source": [
    "MyFaceBook = [{\n",
    "        'id': 'p1', \n",
    "        'conteudo': 'A tarefa de avaliação é talvez a mais ingrata das tarefas que um professor tem de realizar...', \n",
    "        'autor': 'jcr', \n",
    "        'dataCriacao': '2023-07-20', \n",
    "        'comentarios': [\n",
    "            {\n",
    "                'comentario': 'Completamente de acordo...',\n",
    "                'autor': 'prh'\n",
    "            },\n",
    "            {\n",
    "                'comentario': 'Mas há quem goste...',\n",
    "                'autor': 'jj'\n",
    "            }\n",
    "        ]},\n",
    "        {\n",
    "            'id': 'p2',\n",
    "            'conteudo': 'ola', \n",
    "        'autor': 'joao', \n",
    "        'dataCriacao': '2023-07-20', \n",
    "        'comentarios': [\n",
    "            {\n",
    "                'comentario': 'Completamente de acordo...',\n",
    "                'autor': 'prh'\n",
    "            },\n",
    "            {\n",
    "                'comentario': 'Mas há quem goste...',\n",
    "                'autor': 'jj'\n",
    "            }\n",
    "        ]}\n",
    "        ]"
   ]
  },
  {
   "cell_type": "markdown",
   "id": "89afc758",
   "metadata": {},
   "source": [
    "Defina as seguintes funções de manipulação e consulta da rede social:"
   ]
  },
  {
   "cell_type": "markdown",
   "id": "1aec6cd8",
   "metadata": {},
   "source": [
    "#### a) `quantosPost`, que indica quantos posts estão registados:"
   ]
  },
  {
   "cell_type": "code",
   "execution_count": null,
   "id": "39a813ee",
   "metadata": {},
   "outputs": [],
   "source": [
    "def quantosPost(redeSocial):\n",
    "    return len(redeSocial)\n",
    "quantosPost(MyFaceBook)"
   ]
  },
  {
   "cell_type": "markdown",
   "id": "2156a0c8",
   "metadata": {},
   "source": [
    "#### b)  `postsAutor`, que devolve a lista de posts de um determinado autor:"
   ]
  },
  {
   "cell_type": "code",
   "execution_count": null,
   "id": "8a5a2a41",
   "metadata": {},
   "outputs": [],
   "source": [
    "def postsAutor(redeSocial, autor):\n",
    "    lista=[]\n",
    "    for post in redeSocial:\n",
    "        if post[\"autor\"]==autor:\n",
    "            lista.append(post)\n",
    "    return lista\n",
    "postsAutor(MyFaceBook,\"jcr\")"
   ]
  },
  {
   "cell_type": "markdown",
   "id": "12f9126b",
   "metadata": {},
   "source": [
    "#### c) `autores`, que devolve a lista de autores de posts ordenada alfabeticamente:"
   ]
  },
  {
   "cell_type": "code",
   "execution_count": null,
   "id": "d9dfe30a",
   "metadata": {},
   "outputs": [],
   "source": [
    "def autores(redeSocial):\n",
    "    lista=[]\n",
    "    for post in redeSocial:\n",
    "        lista.append(post[\"autor\"])\n",
    "    return  lista\n",
    "autores(MyFaceBook) "
   ]
  },
  {
   "cell_type": "markdown",
   "id": "1a0f760b",
   "metadata": {},
   "source": [
    "#### d) `insPost`, que acrescenta um novo post à rede social a partir dos parâmetros recebidos e devolve a nova rede social. \n",
    "    \n",
    "O campo `id` devrá ser calculado a partir dos já existentes, por exemplo, se a rede tiver posts com id `p1`, `p2` e `p3`, o novo `id` deverá ser `p4`."
   ]
  },
  {
   "cell_type": "code",
   "execution_count": null,
   "id": "a00c85e3",
   "metadata": {},
   "outputs": [],
   "source": [
    "def insPost(redeSocial, conteudo, autor, dataCriacao, comentarios):\n",
    "    novopost={}\n",
    "    \n",
    "    ultimoPost=redeSocial[-1]\n",
    "    id_1=ultimoPost[\"id\"]\n",
    "    idnovo=\"p\"+f\"{int(id_1[1])+1}\"\n",
    "    y=-1\n",
    "    comentarios=[]\n",
    "    while y!=\"0\":\n",
    "        y=input(\"Insira o comentário e respetivo autor separados por virgula...Quando já não quiser adicionar novos comentários insira '0'\")\n",
    "        if y!=\"0\":\n",
    "            comment,autorComment=y.split(\",\")\n",
    "            comentario={\"comentário\":comment,\"autor\":autorComment}\n",
    "            comentarios.append(comentario)\n",
    "    novopost={\"id\":idnovo,\"conteudo\":conteudo,\"autor\":autor,\"dataCriacao\":dataCriacao,\"comentarios\":comentarios}\n",
    "    redeSocial.append(novopost)\n",
    "insPost(MyFaceBook,input(\"Escreva o contúdo do seu post...\"),input(\"Escreva o nome do autor...\"),input(\"Insira a data do post no seguinte formato: AAAA-MM-DD\"),\"comentarios\")\n",
    "print(MyFaceBook)\n"
   ]
  },
  {
   "cell_type": "markdown",
   "id": "65061d0a",
   "metadata": {},
   "source": [
    "#### e)  `remPost`, que remove um post da rede, correspondente ao `id` recebido."
   ]
  },
  {
   "cell_type": "code",
   "execution_count": null,
   "id": "dc1adabc",
   "metadata": {},
   "outputs": [],
   "source": [
    "def remPost(redeSocial, id):\n",
    "    post={}\n",
    "    ident=f\"p{id}\"\n",
    "        \n",
    "    for posts in redeSocial:\n",
    "        if posts[\"id\"]==ident:\n",
    "            post=posts\n",
    "    data=post[\"dataCriacao\"]\n",
    "    conteudo=post[\"conteudo\"]\n",
    "    if input(f\"Tem a certeza que quer apagar este post? Conteúdo: {conteudo}, Data: {data}\\nPara confirmar digite 'Sim'.\")==\"Sim\":\n",
    "        del redeSocial[id-1]\n",
    "    return \n",
    "remPost(MyFaceBook,3)"
   ]
  },
  {
   "cell_type": "markdown",
   "id": "de46a635",
   "metadata": {},
   "source": [
    "#### f) `postsPorAutor`, que devolve uma distribuição de posts por autor (à semelhança do que foi feito nas aulas)."
   ]
  },
  {
   "cell_type": "code",
   "execution_count": null,
   "id": "4118730d",
   "metadata": {},
   "outputs": [],
   "source": [
    "def listaAutores(redeSocial):\n",
    "    posts_por_autor = {}\n",
    "        \n",
    "    for post in redeSocial:\n",
    "        autor = post['autor']\n",
    "        if autor in posts_por_autor:\n",
    "            posts_por_autor[autor].append(post)\n",
    "        else:\n",
    "            posts_por_autor[autor] = [post]\n",
    "    return posts_por_autor\n",
    "listaAutores(MyFaceBook)"
   ]
  },
  {
   "cell_type": "markdown",
   "id": "5b1d7d7a",
   "metadata": {},
   "source": [
    "#### g) `comentadoPor`, que recebe um autor e devolve a lista de posts comentados por esse autor."
   ]
  },
  {
   "cell_type": "code",
   "execution_count": null,
   "id": "a91f2619",
   "metadata": {},
   "outputs": [],
   "source": [
    "def comentadoPor(redeSocial, autor):\n",
    "    lista=[]\n",
    "    for posts in redeSocial:\n",
    "        if \"comentarios\" in posts:\n",
    "        \n",
    "            for comentario in posts[\"comentarios\"]:\n",
    "                if comentario[\"autor\"]==f\"{autor}\":\n",
    "                    lista.append(posts)\n",
    "    return lista\n",
    "comentadoPor(MyFaceBook,\"atchim\")\n"
   ]
  }
 ],
 "metadata": {
  "kernelspec": {
   "display_name": "Python 3",
   "language": "python",
   "name": "python3"
  },
  "language_info": {
   "codemirror_mode": {
    "name": "ipython",
    "version": 3
   },
   "file_extension": ".py",
   "mimetype": "text/x-python",
   "name": "python",
   "nbconvert_exporter": "python",
   "pygments_lexer": "ipython3",
   "version": "3.11.5"
  }
 },
 "nbformat": 4,
 "nbformat_minor": 5
}
